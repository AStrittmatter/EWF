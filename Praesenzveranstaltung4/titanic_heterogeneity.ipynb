{
 "cells": [
  {
   "cell_type": "markdown",
   "id": "527b26a7-b975-4563-ac2d-94b429a21313",
   "metadata": {},
   "source": [
    "# Modellierung der Heterogenität im Titanic-Datensatz"
   ]
  },
  {
   "cell_type": "markdown",
   "id": "c1a10277-e941-497b-a42e-a2a9f2eedc14",
   "metadata": {},
   "source": [
    "Wie wurde das Prinzip \"Frauen und Kinder zuerst\" während des Titanic-Unglücks umgesetzt? Gab es eine klare Präferenz für Frauen oder ein komplexeres Bild? Und welche Rolle spielten soziale Schichten bei den Überlebenschancen von Frauen? Ebenso, wie unterschieden sich die Überlebenschancen zwischen Passagieren verschiedener Nationalitäten wie Engländern, Franzosen und Iren? "
   ]
  },
  {
   "cell_type": "markdown",
   "id": "ebc24392-5174-4c21-8c48-ed6c14af36d4",
   "metadata": {},
   "source": [
    "Der Titanic-Datensatz enthält verschiedene Variablen, die Informationen über die Passagiere des Schiffes Titanic erfassen. Hier ist eine Beschreibung der variablen Variablen im Trainingsdatensatz des Titanic-Datensatzes:\n",
    "\n",
    "- $PassengerId$: Eine eindeutige Identifikationsnummer für jeden Passagier.\n",
    "- $Survived$: Dummy ob der Passagier überlebt hat (1) oder nicht (0).\n",
    "- $Pclass$: Die Passagierklasse, in der der Passagier gereist ist (1 = Erste Klasse, 2 = Zweite Klasse, 3 = Dritte Klasse).\n",
    "- $Name$: Der Name des Passagiers.\n",
    "- $Sex$: Das Geschlecht des Passagiers (male/female).\n",
    "- $Age$: Das Alter des Passagiers. \n",
    "- $SibSp$: Die Anzahl der Geschwister/Ehepartner an Bord.\n",
    "- $Parch$: Die Anzahl der Eltern/Kinder an Bord.\n",
    "- $Ticket$: Die Ticketnummer des Passagiers.\n",
    "- $Fare$: Der gezahlte Fahrpreis.\n",
    "- $Cabin$: Die Kabinennummer des Passagiers. \n",
    "- $Embarked$: Der Hafen, an dem der Passagier eingestiegen ist (C = Cherbourg, Q = Queenstown, S = Southampton).\n",
    "\n",
    "Es ist wichtig zu beachten, dass der Datensatz einige fehlende Werte für die Variablen $Age$ und $Cabin$ enthält. Ausserdem enthält der Datensatz nicht alle Passagiere, sondern nur 891 Passagiere."
   ]
  },
  {
   "cell_type": "markdown",
   "id": "408141ae-1632-4cb6-aa2c-341c75ea6b01",
   "metadata": {
    "tags": []
   },
   "source": [
    "### Laden des Datensatzes"
   ]
  },
  {
   "cell_type": "code",
   "execution_count": 1,
   "id": "bf3bc361-7e78-42ee-89be-01742710c6a9",
   "metadata": {},
   "outputs": [
    {
     "data": {
      "text/html": [
       "<table class=\"dataframe\">\n",
       "<caption>A data.frame: 6 × 12</caption>\n",
       "<thead>\n",
       "\t<tr><th></th><th scope=col>PassengerId</th><th scope=col>Survived</th><th scope=col>Pclass</th><th scope=col>Name</th><th scope=col>Sex</th><th scope=col>Age</th><th scope=col>SibSp</th><th scope=col>Parch</th><th scope=col>Ticket</th><th scope=col>Fare</th><th scope=col>Cabin</th><th scope=col>Embarked</th></tr>\n",
       "\t<tr><th></th><th scope=col>&lt;int&gt;</th><th scope=col>&lt;int&gt;</th><th scope=col>&lt;int&gt;</th><th scope=col>&lt;chr&gt;</th><th scope=col>&lt;chr&gt;</th><th scope=col>&lt;dbl&gt;</th><th scope=col>&lt;int&gt;</th><th scope=col>&lt;int&gt;</th><th scope=col>&lt;chr&gt;</th><th scope=col>&lt;dbl&gt;</th><th scope=col>&lt;chr&gt;</th><th scope=col>&lt;chr&gt;</th></tr>\n",
       "</thead>\n",
       "<tbody>\n",
       "\t<tr><th scope=row>1</th><td>1</td><td>0</td><td>3</td><td>Braund, Mr. Owen Harris                            </td><td>male  </td><td>22</td><td>1</td><td>0</td><td>A/5 21171       </td><td> 7.2500</td><td>    </td><td>S</td></tr>\n",
       "\t<tr><th scope=row>2</th><td>2</td><td>1</td><td>1</td><td>Cumings, Mrs. John Bradley (Florence Briggs Thayer)</td><td>female</td><td>38</td><td>1</td><td>0</td><td>PC 17599        </td><td>71.2833</td><td>C85 </td><td>C</td></tr>\n",
       "\t<tr><th scope=row>3</th><td>3</td><td>1</td><td>3</td><td>Heikkinen, Miss. Laina                             </td><td>female</td><td>26</td><td>0</td><td>0</td><td>STON/O2. 3101282</td><td> 7.9250</td><td>    </td><td>S</td></tr>\n",
       "\t<tr><th scope=row>4</th><td>4</td><td>1</td><td>1</td><td>Futrelle, Mrs. Jacques Heath (Lily May Peel)       </td><td>female</td><td>35</td><td>1</td><td>0</td><td>113803          </td><td>53.1000</td><td>C123</td><td>S</td></tr>\n",
       "\t<tr><th scope=row>5</th><td>5</td><td>0</td><td>3</td><td>Allen, Mr. William Henry                           </td><td>male  </td><td>35</td><td>0</td><td>0</td><td>373450          </td><td> 8.0500</td><td>    </td><td>S</td></tr>\n",
       "\t<tr><th scope=row>6</th><td>6</td><td>0</td><td>3</td><td>Moran, Mr. James                                   </td><td>male  </td><td>NA</td><td>0</td><td>0</td><td>330877          </td><td> 8.4583</td><td>    </td><td>Q</td></tr>\n",
       "</tbody>\n",
       "</table>\n"
      ],
      "text/latex": [
       "A data.frame: 6 × 12\n",
       "\\begin{tabular}{r|llllllllllll}\n",
       "  & PassengerId & Survived & Pclass & Name & Sex & Age & SibSp & Parch & Ticket & Fare & Cabin & Embarked\\\\\n",
       "  & <int> & <int> & <int> & <chr> & <chr> & <dbl> & <int> & <int> & <chr> & <dbl> & <chr> & <chr>\\\\\n",
       "\\hline\n",
       "\t1 & 1 & 0 & 3 & Braund, Mr. Owen Harris                             & male   & 22 & 1 & 0 & A/5 21171        &  7.2500 &      & S\\\\\n",
       "\t2 & 2 & 1 & 1 & Cumings, Mrs. John Bradley (Florence Briggs Thayer) & female & 38 & 1 & 0 & PC 17599         & 71.2833 & C85  & C\\\\\n",
       "\t3 & 3 & 1 & 3 & Heikkinen, Miss. Laina                              & female & 26 & 0 & 0 & STON/O2. 3101282 &  7.9250 &      & S\\\\\n",
       "\t4 & 4 & 1 & 1 & Futrelle, Mrs. Jacques Heath (Lily May Peel)        & female & 35 & 1 & 0 & 113803           & 53.1000 & C123 & S\\\\\n",
       "\t5 & 5 & 0 & 3 & Allen, Mr. William Henry                            & male   & 35 & 0 & 0 & 373450           &  8.0500 &      & S\\\\\n",
       "\t6 & 6 & 0 & 3 & Moran, Mr. James                                    & male   & NA & 0 & 0 & 330877           &  8.4583 &      & Q\\\\\n",
       "\\end{tabular}\n"
      ],
      "text/markdown": [
       "\n",
       "A data.frame: 6 × 12\n",
       "\n",
       "| <!--/--> | PassengerId &lt;int&gt; | Survived &lt;int&gt; | Pclass &lt;int&gt; | Name &lt;chr&gt; | Sex &lt;chr&gt; | Age &lt;dbl&gt; | SibSp &lt;int&gt; | Parch &lt;int&gt; | Ticket &lt;chr&gt; | Fare &lt;dbl&gt; | Cabin &lt;chr&gt; | Embarked &lt;chr&gt; |\n",
       "|---|---|---|---|---|---|---|---|---|---|---|---|---|\n",
       "| 1 | 1 | 0 | 3 | Braund, Mr. Owen Harris                             | male   | 22 | 1 | 0 | A/5 21171        |  7.2500 | <!----> | S |\n",
       "| 2 | 2 | 1 | 1 | Cumings, Mrs. John Bradley (Florence Briggs Thayer) | female | 38 | 1 | 0 | PC 17599         | 71.2833 | C85  | C |\n",
       "| 3 | 3 | 1 | 3 | Heikkinen, Miss. Laina                              | female | 26 | 0 | 0 | STON/O2. 3101282 |  7.9250 | <!----> | S |\n",
       "| 4 | 4 | 1 | 1 | Futrelle, Mrs. Jacques Heath (Lily May Peel)        | female | 35 | 1 | 0 | 113803           | 53.1000 | C123 | S |\n",
       "| 5 | 5 | 0 | 3 | Allen, Mr. William Henry                            | male   | 35 | 0 | 0 | 373450           |  8.0500 | <!----> | S |\n",
       "| 6 | 6 | 0 | 3 | Moran, Mr. James                                    | male   | NA | 0 | 0 | 330877           |  8.4583 | <!----> | Q |\n",
       "\n"
      ],
      "text/plain": [
       "  PassengerId Survived Pclass\n",
       "1 1           0        3     \n",
       "2 2           1        1     \n",
       "3 3           1        3     \n",
       "4 4           1        1     \n",
       "5 5           0        3     \n",
       "6 6           0        3     \n",
       "  Name                                                Sex    Age SibSp Parch\n",
       "1 Braund, Mr. Owen Harris                             male   22  1     0    \n",
       "2 Cumings, Mrs. John Bradley (Florence Briggs Thayer) female 38  1     0    \n",
       "3 Heikkinen, Miss. Laina                              female 26  0     0    \n",
       "4 Futrelle, Mrs. Jacques Heath (Lily May Peel)        female 35  1     0    \n",
       "5 Allen, Mr. William Henry                            male   35  0     0    \n",
       "6 Moran, Mr. James                                    male   NA  0     0    \n",
       "  Ticket           Fare    Cabin Embarked\n",
       "1 A/5 21171         7.2500       S       \n",
       "2 PC 17599         71.2833 C85   C       \n",
       "3 STON/O2. 3101282  7.9250       S       \n",
       "4 113803           53.1000 C123  S       \n",
       "5 373450            8.0500       S       \n",
       "6 330877            8.4583       Q       "
      ]
     },
     "metadata": {},
     "output_type": "display_data"
    }
   ],
   "source": [
    "# Laden des Titanic-Datensatzes\n",
    "library(titanic)\n",
    "data(\"titanic_train\")  # Lädt den Trainingsdatensatz\n",
    "\n",
    "# Anzeigen der ersten paar Zeilen des Datensatzes\n",
    "head(titanic_train)"
   ]
  },
  {
   "cell_type": "markdown",
   "id": "f59e965a-dfa2-4a65-a34c-e9913ef64315",
   "metadata": {},
   "source": [
    "### Kodierung qualitativer Variablen"
   ]
  },
  {
   "cell_type": "markdown",
   "id": "1a28c4e3-effc-4a7a-b088-adff0fa3b099",
   "metadata": {},
   "source": [
    "Betrachten wir zunächst die Variable $Embarked$. Cherbour liegt in Frankreich, Queenstown in Irland und Southampton in England."
   ]
  },
  {
   "cell_type": "code",
   "execution_count": 2,
   "id": "dc7954e2-e23e-4924-8b8b-8020db4b3440",
   "metadata": {},
   "outputs": [
    {
     "data": {
      "text/plain": [
       "\n",
       "      C   Q   S \n",
       "  2 168  77 644 "
      ]
     },
     "metadata": {},
     "output_type": "display_data"
    }
   ],
   "source": [
    "# Untersuchung der Häufigkeit der Einschiffungsorte\n",
    "# C = Cherbourg, Q = Queenstown, S = Southampton\n",
    "table(titanic_train$Embarked)"
   ]
  },
  {
   "cell_type": "markdown",
   "id": "5e031401-bc60-41fc-88c0-4be9483b2c7c",
   "metadata": {},
   "source": [
    "Die meisten Passagiere stiegen in Southampton zu, weshalb wir diesen Hafen als Referenzkategorie verwenden. Im Folgenden generieren wir Dummy-Variablen für Cherbour (FR) und Queenstown (IR)."
   ]
  },
  {
   "cell_type": "code",
   "execution_count": 3,
   "id": "5830afb4-c266-4a4e-bb16-12b00954da48",
   "metadata": {},
   "outputs": [
    {
     "data": {
      "text/plain": [
       "\n",
       "  0   1 \n",
       "723 168 "
      ]
     },
     "metadata": {},
     "output_type": "display_data"
    },
    {
     "data": {
      "text/plain": [
       "\n",
       "  0   1 \n",
       "814  77 "
      ]
     },
     "metadata": {},
     "output_type": "display_data"
    }
   ],
   "source": [
    "# Erstellung von Dummy-Variablen für Einschiffungsorte (C = Cherbourg, Q = Queenstown, S = Southampton)\n",
    "titanic_train$FR <- ifelse(titanic_train$Embarked == 'C', 1, 0)\n",
    "titanic_train$IR <- ifelse(titanic_train$Embarked == 'Q', 1, 0)\n",
    "table(titanic_train$FR)\n",
    "table(titanic_train$IR)"
   ]
  },
  {
   "cell_type": "markdown",
   "id": "748bc14c-7957-455e-b542-9e57a44dce64",
   "metadata": {},
   "source": [
    "Betrachten wir nun die Kodierung der Variable $Sex$."
   ]
  },
  {
   "cell_type": "code",
   "execution_count": 4,
   "id": "bad06bb5-9982-4b75-8a32-afdce5be6bef",
   "metadata": {},
   "outputs": [
    {
     "data": {
      "text/plain": [
       "\n",
       "female   male \n",
       "   314    577 "
      ]
     },
     "metadata": {},
     "output_type": "display_data"
    }
   ],
   "source": [
    "# Untersuchung der Geschlechterverteilung\n",
    "table(titanic_train$Sex)"
   ]
  },
  {
   "cell_type": "markdown",
   "id": "043d4edc-d88a-4d04-ad10-8532c1a90cb2",
   "metadata": {},
   "source": [
    "Wir generieren einen Dummy für Frauen."
   ]
  },
  {
   "cell_type": "code",
   "execution_count": 5,
   "id": "16dc0a84-deac-4662-92db-7bee4554d630",
   "metadata": {},
   "outputs": [
    {
     "data": {
      "text/plain": [
       "\n",
       "  0   1 \n",
       "577 314 "
      ]
     },
     "metadata": {},
     "output_type": "display_data"
    }
   ],
   "source": [
    "# Erstellung einer Dummy-Variable für das Geschlecht (1 für Frau, 0 für Mann)\n",
    "titanic_train$Woman <- ifelse(titanic_train$Sex == 'female', 1, 0)\n",
    "table(titanic_train$Woman)"
   ]
  },
  {
   "cell_type": "markdown",
   "id": "13bc7287-ee94-4368-b756-b8024f45f85e",
   "metadata": {},
   "source": [
    "### Restringierte Regression"
   ]
  },
  {
   "cell_type": "markdown",
   "id": "81afffac-91c6-438a-a3c9-43f8cd8e619e",
   "metadata": {},
   "source": [
    "Wir beginnen mit der Schätzung unseres Basismodells, das nur den bezahlten Fahrpreis und das Abfahrtsland berücksichtigt."
   ]
  },
  {
   "cell_type": "code",
   "execution_count": 6,
   "id": "42664d11-02c3-47b5-a72c-0ce97d9241b6",
   "metadata": {},
   "outputs": [
    {
     "data": {
      "text/plain": [
       "\n",
       "Call:\n",
       "lm(formula = Survived ~ Fare + FR + IR, data = titanic_train)\n",
       "\n",
       "Residuals:\n",
       "    Min      1Q  Median      3Q     Max \n",
       "-0.9807 -0.3362 -0.2949  0.5574  0.7230 \n",
       "\n",
       "Coefficients:\n",
       "             Estimate Std. Error t value Pr(>|t|)    \n",
       "(Intercept) 0.2769748  0.0204676  13.532  < 2e-16 ***\n",
       "Fare        0.0022770  0.0003287   6.927 8.26e-12 ***\n",
       "FR          0.1400795  0.0419142   3.342 0.000866 ***\n",
       "IR          0.0824057  0.0565821   1.456 0.145638    \n",
       "---\n",
       "Signif. codes:  0 ‘***’ 0.001 ‘**’ 0.01 ‘*’ 0.05 ‘.’ 0.1 ‘ ’ 1\n",
       "\n",
       "Residual standard error: 0.4678 on 887 degrees of freedom\n",
       "Multiple R-squared:  0.07896,\tAdjusted R-squared:  0.07585 \n",
       "F-statistic: 25.35 on 3 and 887 DF,  p-value: 9.712e-16\n"
      ]
     },
     "metadata": {},
     "output_type": "display_data"
    }
   ],
   "source": [
    "# Lineare Regression: Überleben in Bezug auf den Fahrpreis (in Pfund Sterling) mit beschränktem Modell\n",
    "ols_restr <- lm(Survived ~ Fare + FR + IR, data = titanic_train)\n",
    "summary(ols_restr)"
   ]
  },
  {
   "cell_type": "markdown",
   "id": "c7325f8b-5da2-4ef2-b294-9722e5e9405b",
   "metadata": {},
   "source": [
    "Wie kann man die Koeffizienten interpretieren?"
   ]
  },
  {
   "cell_type": "markdown",
   "id": "a204618b-fffc-46c8-9acb-c839c74b10a2",
   "metadata": {},
   "source": [
    "### Unrestringierte Regression"
   ]
  },
  {
   "cell_type": "markdown",
   "id": "8a27e719-b6da-4886-80a4-dc7843b05ec8",
   "metadata": {},
   "source": [
    "Nun interagieren wir mit dem gesamten Modell mit $Woman$ und kontrollieren zusätzlich für den Dummy $Woman$. Dadurch können differenzierte Überlebenschancen von Männern und Frauen ermittelt werden.\n",
    "\n",
    "Wir beginnen mit der Generierung der Interaktionsterme."
   ]
  },
  {
   "cell_type": "code",
   "execution_count": 7,
   "id": "804955c3-f26b-4ccc-9659-78ee3403733d",
   "metadata": {},
   "outputs": [
    {
     "name": "stdout",
     "output_type": "stream",
     "text": [
      "[1] \"Interaktionsterme generiert\"\n"
     ]
    }
   ],
   "source": [
    "# Generierung von Interaktionsvariablen\n",
    "titanic_train$Wo_Fare <- titanic_train$Woman * titanic_train$Fare\n",
    "titanic_train$Wo_FR <- titanic_train$Woman * titanic_train$FR\n",
    "titanic_train$Wo_IR <- titanic_train$Woman * titanic_train$IR\n",
    "print('Interaktionsterme generiert')"
   ]
  },
  {
   "cell_type": "markdown",
   "id": "6e78e0b0-6cd3-4e6e-a7dc-c4a869db3b7d",
   "metadata": {},
   "source": [
    "Wir schätzen nun das unrestringierte Modell, das alle Interaktionsterme und den Geschlechtsdummy enthält. Es erlaubt also volle Flexibilität in Bezug auf das Geschlecht."
   ]
  },
  {
   "cell_type": "code",
   "execution_count": 8,
   "id": "1ff87256-f55a-4946-9b16-8023268f3061",
   "metadata": {},
   "outputs": [
    {
     "data": {
      "text/plain": [
       "\n",
       "Call:\n",
       "lm(formula = Survived ~ Fare + FR + IR + Woman + Wo_Fare + Wo_FR + \n",
       "    Wo_IR, data = titanic_train)\n",
       "\n",
       "Residuals:\n",
       "    Min      1Q  Median      3Q     Max \n",
       "-0.8588 -0.1804 -0.1562  0.2572  0.9349 \n",
       "\n",
       "Coefficients:\n",
       "              Estimate Std. Error t value Pr(>|t|)    \n",
       "(Intercept)  0.1458919  0.0208897   6.984 5.65e-12 ***\n",
       "Fare         0.0013224  0.0003974   3.328 0.000912 ***\n",
       "FR           0.0955509  0.0464049   2.059 0.039780 *  \n",
       "IR          -0.0910213  0.0653052  -1.394 0.163734    \n",
       "Woman        0.4889618  0.0384016  12.733  < 2e-16 ***\n",
       "Wo_Fare      0.0001550  0.0005722   0.271 0.786545    \n",
       "Wo_FR        0.0352544  0.0730651   0.483 0.629566    \n",
       "Wo_IR        0.1875012  0.0979603   1.914 0.055936 .  \n",
       "---\n",
       "Signif. codes:  0 ‘***’ 0.001 ‘**’ 0.01 ‘*’ 0.05 ‘.’ 0.1 ‘ ’ 1\n",
       "\n",
       "Residual standard error: 0.3995 on 883 degrees of freedom\n",
       "Multiple R-squared:  0.3312,\tAdjusted R-squared:  0.3259 \n",
       "F-statistic: 62.46 on 7 and 883 DF,  p-value: < 2.2e-16\n"
      ]
     },
     "metadata": {},
     "output_type": "display_data"
    }
   ],
   "source": [
    "# Lineare Regression: Überleben in Bezug auf den Fahrpreis (in Pfund Sterling) mit unbeschränktem Modell\n",
    "ols_unrestr <- lm(Survived ~ Fare + FR + IR + Woman + Wo_Fare + Wo_FR + Wo_IR, data = titanic_train)\n",
    "summary(ols_unrestr)"
   ]
  },
  {
   "cell_type": "markdown",
   "id": "67818963-7088-4299-b0ba-4f1539782944",
   "metadata": {},
   "source": [
    "Wie ist die statistische Signifikanz der Interaktionsterme zu interpretieren?"
   ]
  },
  {
   "cell_type": "markdown",
   "id": "3f23f010-0748-456c-87e1-4c3b96532c49",
   "metadata": {
    "tags": []
   },
   "source": [
    "### Test auf Heterogenität"
   ]
  },
  {
   "cell_type": "markdown",
   "id": "2d22daeb-3519-4adc-8344-fb6613889def",
   "metadata": {},
   "source": [
    "Die gemeinsame Signifikanz mehrerer Interaktionsterme kann mit Hilfe eines F-Tests überprüft werden. Die Teststatistik wird wie folgt berechnet,\n",
    "\n",
    "$$F-Stat = \\frac{SSR_{restr}-SSR_{unrestr}}{SSR_{unrestr}} \\cdot\\frac{\\text{Nenner Freiheitsgrade}}{\\text{Zähler Freiheitsgrade}},$$\n",
    "\n",
    "wobei $SSR$ für \"*Sum of Squared Residuals*\" steht und wie folgt berechnet wird\n",
    "\n",
    "$$SSR=\\sum(\\hat{y}-y)^2.$$ \n",
    "\n",
    "Vereinfacht ausgedrückt misst die F-Statistik die Wachstumsrate des $SSR$, wenn Variablen weggelassen werden, gewichtet mit dem Verhältnis der Freiheitsgrade.\n",
    "\n",
    "Die Nullhypothese besagt, dass es keinen signifikanten Unterschied zwischen dem restringierten und dem unrestringierten Modell gibt."
   ]
  },
  {
   "cell_type": "markdown",
   "id": "f970638b-fa83-4149-9994-f20967df521d",
   "metadata": {
    "tags": []
   },
   "source": [
    "Zunächst müssen wir also die $SSR$ für das restringierte und das unrestringierte Modell berechnen."
   ]
  },
  {
   "cell_type": "code",
   "execution_count": 9,
   "id": "ceec92b5-aaff-4029-b82e-035edfbb3ee7",
   "metadata": {
    "tags": []
   },
   "outputs": [],
   "source": [
    "# Berechnung der Summe der quadratischen Residuen für beschränktes und unbeschränktes Modell\n",
    "ssr_restr <- sum((fitted(ols_restr) - titanic_train$Survived)^2)\n",
    "ssr_unrestr <- sum((fitted(ols_unrestr) - titanic_train$Survived)^2)"
   ]
  },
  {
   "cell_type": "markdown",
   "id": "817de4fd-4806-4d0e-a5c6-642a0fcb6da0",
   "metadata": {},
   "source": [
    "Als nächstes müssen wir die Freiheitsgrade bestimmen. Dazu müssen wir zunächst die Anzahl der Beobachtungen im Datensatz kennen."
   ]
  },
  {
   "cell_type": "code",
   "execution_count": 10,
   "id": "996055f2-5972-4678-8cbb-b3971f9c2f96",
   "metadata": {},
   "outputs": [
    {
     "data": {
      "text/html": [
       "891"
      ],
      "text/latex": [
       "891"
      ],
      "text/markdown": [
       "891"
      ],
      "text/plain": [
       "[1] 891"
      ]
     },
     "metadata": {},
     "output_type": "display_data"
    }
   ],
   "source": [
    "# Anzahl an Beobachtungen im Datensatz\n",
    "n_obs <- nrow(titanic_train)\n",
    "n_obs"
   ]
  },
  {
   "cell_type": "markdown",
   "id": "2e8b2dbd-9de8-4102-b849-f428f672752c",
   "metadata": {},
   "source": [
    "Die Anzahl der Freiheitsgrade entspricht der Differenz zwischen der Anzahl der Beobachtungen und der Anzahl der geschätzten Parameter. Im restringierten Modell haben wir 4 geschätzte Parameter."
   ]
  },
  {
   "cell_type": "code",
   "execution_count": 11,
   "id": "570f1924-6842-42f9-ae30-9478c56ddde6",
   "metadata": {},
   "outputs": [
    {
     "data": {
      "text/html": [
       "887"
      ],
      "text/latex": [
       "887"
      ],
      "text/markdown": [
       "887"
      ],
      "text/plain": [
       "[1] 887"
      ]
     },
     "metadata": {},
     "output_type": "display_data"
    }
   ],
   "source": [
    "# Freiheitsgrade für beschränktes Modell\n",
    "df_restr <- ols_restr$df.residual\n",
    "df_restr"
   ]
  },
  {
   "cell_type": "markdown",
   "id": "a254af89-9f11-4557-91bd-77580cca0617",
   "metadata": {
    "tags": []
   },
   "source": [
    "Im unrestringierten Modell haben wir 8 geschätzte Parameter. Daraus koennen wir die Nenner Freiheitsgrade berechnen."
   ]
  },
  {
   "cell_type": "code",
   "execution_count": 12,
   "id": "5af3bc4d-2d61-4a07-86f1-944fe7c989ea",
   "metadata": {},
   "outputs": [
    {
     "data": {
      "text/html": [
       "883"
      ],
      "text/latex": [
       "883"
      ],
      "text/markdown": [
       "883"
      ],
      "text/plain": [
       "[1] 883"
      ]
     },
     "metadata": {},
     "output_type": "display_data"
    }
   ],
   "source": [
    "# Freiheitsgrade für unbeschränktes Modell\n",
    "df_unrestr <- ols_unrestr$df.residual\n",
    "df_unrestr # Nenner Freiheitsgrade"
   ]
  },
  {
   "cell_type": "markdown",
   "id": "85aed167-38a9-4c8f-a21e-c7d9d9cf4861",
   "metadata": {},
   "source": [
    "Die Zähler Freiheitsgrade sind die Differenz zwischen den Freiheitsgraden des restringierten und des unrestringierten Modells."
   ]
  },
  {
   "cell_type": "code",
   "execution_count": 13,
   "id": "b5b147d2-4ece-4692-81f0-477318052ed1",
   "metadata": {},
   "outputs": [
    {
     "data": {
      "text/html": [
       "4"
      ],
      "text/latex": [
       "4"
      ],
      "text/markdown": [
       "4"
      ],
      "text/plain": [
       "[1] 4"
      ]
     },
     "metadata": {},
     "output_type": "display_data"
    }
   ],
   "source": [
    "# Differenz der Freiheitsgrade\n",
    "df_diff <- df_restr - df_unrestr\n",
    "df_diff # Zähler Freiheitsgrade"
   ]
  },
  {
   "cell_type": "markdown",
   "id": "334ba663-da5f-45df-8bca-80c1254d4e55",
   "metadata": {},
   "source": [
    "Nun haben wir alle notwendigen Zutaten, um die F-Statistik mit Hilfe der obigen Formel zu berechnen."
   ]
  },
  {
   "cell_type": "code",
   "execution_count": 14,
   "id": "06b5a641-eb70-468c-9199-1d215852ef78",
   "metadata": {},
   "outputs": [
    {
     "data": {
      "text/html": [
       "83.2434881120536"
      ],
      "text/latex": [
       "83.2434881120536"
      ],
      "text/markdown": [
       "83.2434881120536"
      ],
      "text/plain": [
       "[1] 83.24349"
      ]
     },
     "metadata": {},
     "output_type": "display_data"
    }
   ],
   "source": [
    "# Berechnung der Teststatistik\n",
    "test_stat <- (ssr_restr - ssr_unrestr) / ssr_unrestr * (df_unrestr) / df_diff\n",
    "test_stat"
   ]
  },
  {
   "cell_type": "markdown",
   "id": "d5d9167d-5784-40ca-9c44-281bcdad47df",
   "metadata": {},
   "source": [
    "Schliesslich kann der kritische Wert aus dem oberen Quantil der F-Verteilung (hier 99%-Quantil für 1% Signifikanzniveau) bestimmt werden."
   ]
  },
  {
   "cell_type": "code",
   "execution_count": 21,
   "id": "6ac568a6-a9af-4f43-bfd2-16343aa0a3c3",
   "metadata": {},
   "outputs": [
    {
     "data": {
      "text/html": [
       "3.34045032363069"
      ],
      "text/latex": [
       "3.34045032363069"
      ],
      "text/markdown": [
       "3.34045032363069"
      ],
      "text/plain": [
       "[1] 3.34045"
      ]
     },
     "metadata": {},
     "output_type": "display_data"
    }
   ],
   "source": [
    "# Berechnung des kritischen Werts\n",
    "F_crit <- qf(p = 0.99, df1 = df_diff, df2 = df_unrestr)\n",
    "F_crit"
   ]
  },
  {
   "cell_type": "markdown",
   "id": "fb05bc53-6446-488f-8342-0c0d3be7f9ed",
   "metadata": {
    "tags": []
   },
   "source": [
    "Kann die Nullhypothese aufgrund der Ergebnisse verworfen werden? Was bedeutet dies für die Überlebenschancen von Männern und Frauen? Können wir auch etwas darüber aussagen, ob es bei Frauen weniger Diskriminierung nach sozialer Schicht gab als bei Männern?"
   ]
  },
  {
   "cell_type": "code",
   "execution_count": null,
   "id": "a16e83ab-d566-4a35-8932-12976e4a7e18",
   "metadata": {},
   "outputs": [],
   "source": []
  }
 ],
 "metadata": {
  "kernelspec": {
   "display_name": "R",
   "language": "R",
   "name": "ir"
  },
  "language_info": {
   "codemirror_mode": "r",
   "file_extension": ".r",
   "mimetype": "text/x-r-source",
   "name": "R",
   "pygments_lexer": "r",
   "version": "3.6.1"
  }
 },
 "nbformat": 4,
 "nbformat_minor": 5
}
