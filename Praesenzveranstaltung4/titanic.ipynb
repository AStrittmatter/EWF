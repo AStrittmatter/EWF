{
 "cells": [
  {
   "cell_type": "markdown",
   "id": "e1d6d8ea-8238-4ec4-8d30-05e10cb70c5e",
   "metadata": {},
   "source": [
    "# Datenskalierung mit dem Titanic Datensatz"
   ]
  },
  {
   "cell_type": "markdown",
   "id": "784f2a6d-03d3-4a95-b503-8e798062e4fe",
   "metadata": {},
   "source": [
    "Die Titanic, das grösste und luxuriöseste Passagierschiff seiner Zeit, kollidierte in der Aprilnacht 1912 auf ihrer Jungfernfahrt von Southampton nach New York mit einem Eisberg und sank. Aufgrund mangelnder Sicherheitsvorkehrungen, wie z.B. zu wenig Rettungsbooten, kamen ca. 1.500 Menschen ums Leben. Das Unglück führte zu einer Revision der Schifffahrtsgesetze und hatte einen enormen Einfluss auf die Sicherheitsstandards auf See weltweit."
   ]
  },
  {
   "cell_type": "markdown",
   "id": "34b53d79-6a6a-468b-96e7-4e1d2b646937",
   "metadata": {},
   "source": [
    "Der Titanic-Datensatz enthält verschiedene Variablen, die Informationen über die Passagiere des Schiffes Titanic erfassen. Hier ist eine Beschreibung der variablen Variablen im Trainingsdatensatz des Titanic-Datensatzes:\n",
    "\n",
    "- $PassengerId$: Eine eindeutige Identifikationsnummer für jeden Passagier.\n",
    "- $Survived$: Dummy ob der Passagier überlebt hat (1) oder nicht (0).\n",
    "- $Pclass$: Die Passagierklasse, in der der Passagier gereist ist (1 = Erste Klasse, 2 = Zweite Klasse, 3 = Dritte Klasse).\n",
    "- $Name$: Der Name des Passagiers.\n",
    "- $Sex$: Das Geschlecht des Passagiers (male/female).\n",
    "- $Age$: Das Alter des Passagiers. \n",
    "- $SibSp$: Die Anzahl der Geschwister/Ehepartner an Bord.\n",
    "- $Parch$: Die Anzahl der Eltern/Kinder an Bord.\n",
    "- $Ticket$: Die Ticketnummer des Passagiers.\n",
    "- $Fare$: Der gezahlte Fahrpreis.\n",
    "- $Cabin$: Die Kabinennummer des Passagiers. \n",
    "- $Embarked$: Der Hafen, an dem der Passagier eingestiegen ist (C = Cherbourg, Q = Queenstown, S = Southampton).\n",
    "\n",
    "Es ist wichtig zu beachten, dass der Datensatz einige fehlende Werte für die Variablen $Age$ und $Cabin$ enthält. Ausserdem enthält der Datensatz nicht alle Passagiere, sondern nur 891 Passagiere."
   ]
  },
  {
   "cell_type": "markdown",
   "id": "1db2fbab-08ce-4e19-bcca-ec25c5e12937",
   "metadata": {},
   "source": [
    "### Laden des Datensatzes"
   ]
  },
  {
   "cell_type": "markdown",
   "id": "ff2ee5be-3ca0-4d00-9950-d742fa18c4df",
   "metadata": {},
   "source": [
    "Zuerst laden wir den Titanic-Datensatz."
   ]
  },
  {
   "cell_type": "code",
   "execution_count": 1,
   "id": "c7921cde-7ae9-4d5f-aca1-50494b54e68d",
   "metadata": {
    "tags": []
   },
   "outputs": [
    {
     "name": "stdout",
     "output_type": "stream",
     "text": [
      "[1] \"Daten geladen\"\n"
     ]
    }
   ],
   "source": [
    "# Laden des Titanic-Datensatzes\n",
    "library(titanic)\n",
    "data(\"titanic_train\")  # Lädt den Trainingsdatensatz\n",
    "print('Daten geladen')"
   ]
  },
  {
   "cell_type": "markdown",
   "id": "cd63567b-5704-4b64-bcce-e2395377cf89",
   "metadata": {
    "tags": []
   },
   "source": [
    "Für einen Überblick betrachten wir die ersten 6 Zeilen des Datensatzes."
   ]
  },
  {
   "cell_type": "code",
   "execution_count": 2,
   "id": "35908954-c2ee-4d9e-b3dd-20f9135086b9",
   "metadata": {
    "tags": []
   },
   "outputs": [
    {
     "data": {
      "text/html": [
       "<table class=\"dataframe\">\n",
       "<caption>A data.frame: 6 × 12</caption>\n",
       "<thead>\n",
       "\t<tr><th></th><th scope=col>PassengerId</th><th scope=col>Survived</th><th scope=col>Pclass</th><th scope=col>Name</th><th scope=col>Sex</th><th scope=col>Age</th><th scope=col>SibSp</th><th scope=col>Parch</th><th scope=col>Ticket</th><th scope=col>Fare</th><th scope=col>Cabin</th><th scope=col>Embarked</th></tr>\n",
       "\t<tr><th></th><th scope=col>&lt;int&gt;</th><th scope=col>&lt;int&gt;</th><th scope=col>&lt;int&gt;</th><th scope=col>&lt;chr&gt;</th><th scope=col>&lt;chr&gt;</th><th scope=col>&lt;dbl&gt;</th><th scope=col>&lt;int&gt;</th><th scope=col>&lt;int&gt;</th><th scope=col>&lt;chr&gt;</th><th scope=col>&lt;dbl&gt;</th><th scope=col>&lt;chr&gt;</th><th scope=col>&lt;chr&gt;</th></tr>\n",
       "</thead>\n",
       "<tbody>\n",
       "\t<tr><th scope=row>1</th><td>1</td><td>0</td><td>3</td><td>Braund, Mr. Owen Harris                            </td><td>male  </td><td>22</td><td>1</td><td>0</td><td>A/5 21171       </td><td> 7.2500</td><td>    </td><td>S</td></tr>\n",
       "\t<tr><th scope=row>2</th><td>2</td><td>1</td><td>1</td><td>Cumings, Mrs. John Bradley (Florence Briggs Thayer)</td><td>female</td><td>38</td><td>1</td><td>0</td><td>PC 17599        </td><td>71.2833</td><td>C85 </td><td>C</td></tr>\n",
       "\t<tr><th scope=row>3</th><td>3</td><td>1</td><td>3</td><td>Heikkinen, Miss. Laina                             </td><td>female</td><td>26</td><td>0</td><td>0</td><td>STON/O2. 3101282</td><td> 7.9250</td><td>    </td><td>S</td></tr>\n",
       "\t<tr><th scope=row>4</th><td>4</td><td>1</td><td>1</td><td>Futrelle, Mrs. Jacques Heath (Lily May Peel)       </td><td>female</td><td>35</td><td>1</td><td>0</td><td>113803          </td><td>53.1000</td><td>C123</td><td>S</td></tr>\n",
       "\t<tr><th scope=row>5</th><td>5</td><td>0</td><td>3</td><td>Allen, Mr. William Henry                           </td><td>male  </td><td>35</td><td>0</td><td>0</td><td>373450          </td><td> 8.0500</td><td>    </td><td>S</td></tr>\n",
       "\t<tr><th scope=row>6</th><td>6</td><td>0</td><td>3</td><td>Moran, Mr. James                                   </td><td>male  </td><td>NA</td><td>0</td><td>0</td><td>330877          </td><td> 8.4583</td><td>    </td><td>Q</td></tr>\n",
       "</tbody>\n",
       "</table>\n"
      ],
      "text/latex": [
       "A data.frame: 6 × 12\n",
       "\\begin{tabular}{r|llllllllllll}\n",
       "  & PassengerId & Survived & Pclass & Name & Sex & Age & SibSp & Parch & Ticket & Fare & Cabin & Embarked\\\\\n",
       "  & <int> & <int> & <int> & <chr> & <chr> & <dbl> & <int> & <int> & <chr> & <dbl> & <chr> & <chr>\\\\\n",
       "\\hline\n",
       "\t1 & 1 & 0 & 3 & Braund, Mr. Owen Harris                             & male   & 22 & 1 & 0 & A/5 21171        &  7.2500 &      & S\\\\\n",
       "\t2 & 2 & 1 & 1 & Cumings, Mrs. John Bradley (Florence Briggs Thayer) & female & 38 & 1 & 0 & PC 17599         & 71.2833 & C85  & C\\\\\n",
       "\t3 & 3 & 1 & 3 & Heikkinen, Miss. Laina                              & female & 26 & 0 & 0 & STON/O2. 3101282 &  7.9250 &      & S\\\\\n",
       "\t4 & 4 & 1 & 1 & Futrelle, Mrs. Jacques Heath (Lily May Peel)        & female & 35 & 1 & 0 & 113803           & 53.1000 & C123 & S\\\\\n",
       "\t5 & 5 & 0 & 3 & Allen, Mr. William Henry                            & male   & 35 & 0 & 0 & 373450           &  8.0500 &      & S\\\\\n",
       "\t6 & 6 & 0 & 3 & Moran, Mr. James                                    & male   & NA & 0 & 0 & 330877           &  8.4583 &      & Q\\\\\n",
       "\\end{tabular}\n"
      ],
      "text/markdown": [
       "\n",
       "A data.frame: 6 × 12\n",
       "\n",
       "| <!--/--> | PassengerId &lt;int&gt; | Survived &lt;int&gt; | Pclass &lt;int&gt; | Name &lt;chr&gt; | Sex &lt;chr&gt; | Age &lt;dbl&gt; | SibSp &lt;int&gt; | Parch &lt;int&gt; | Ticket &lt;chr&gt; | Fare &lt;dbl&gt; | Cabin &lt;chr&gt; | Embarked &lt;chr&gt; |\n",
       "|---|---|---|---|---|---|---|---|---|---|---|---|---|\n",
       "| 1 | 1 | 0 | 3 | Braund, Mr. Owen Harris                             | male   | 22 | 1 | 0 | A/5 21171        |  7.2500 | <!----> | S |\n",
       "| 2 | 2 | 1 | 1 | Cumings, Mrs. John Bradley (Florence Briggs Thayer) | female | 38 | 1 | 0 | PC 17599         | 71.2833 | C85  | C |\n",
       "| 3 | 3 | 1 | 3 | Heikkinen, Miss. Laina                              | female | 26 | 0 | 0 | STON/O2. 3101282 |  7.9250 | <!----> | S |\n",
       "| 4 | 4 | 1 | 1 | Futrelle, Mrs. Jacques Heath (Lily May Peel)        | female | 35 | 1 | 0 | 113803           | 53.1000 | C123 | S |\n",
       "| 5 | 5 | 0 | 3 | Allen, Mr. William Henry                            | male   | 35 | 0 | 0 | 373450           |  8.0500 | <!----> | S |\n",
       "| 6 | 6 | 0 | 3 | Moran, Mr. James                                    | male   | NA | 0 | 0 | 330877           |  8.4583 | <!----> | Q |\n",
       "\n"
      ],
      "text/plain": [
       "  PassengerId Survived Pclass\n",
       "1 1           0        3     \n",
       "2 2           1        1     \n",
       "3 3           1        3     \n",
       "4 4           1        1     \n",
       "5 5           0        3     \n",
       "6 6           0        3     \n",
       "  Name                                                Sex    Age SibSp Parch\n",
       "1 Braund, Mr. Owen Harris                             male   22  1     0    \n",
       "2 Cumings, Mrs. John Bradley (Florence Briggs Thayer) female 38  1     0    \n",
       "3 Heikkinen, Miss. Laina                              female 26  0     0    \n",
       "4 Futrelle, Mrs. Jacques Heath (Lily May Peel)        female 35  1     0    \n",
       "5 Allen, Mr. William Henry                            male   35  0     0    \n",
       "6 Moran, Mr. James                                    male   NA  0     0    \n",
       "  Ticket           Fare    Cabin Embarked\n",
       "1 A/5 21171         7.2500       S       \n",
       "2 PC 17599         71.2833 C85   C       \n",
       "3 STON/O2. 3101282  7.9250       S       \n",
       "4 113803           53.1000 C123  S       \n",
       "5 373450            8.0500       S       \n",
       "6 330877            8.4583       Q       "
      ]
     },
     "metadata": {},
     "output_type": "display_data"
    }
   ],
   "source": [
    "# Anzeigen der ersten paar Zeilen des Datensatzes\n",
    "head(titanic_train)"
   ]
  },
  {
   "cell_type": "markdown",
   "id": "7af3580f-db4f-404a-8cda-fe4ff19237d2",
   "metadata": {},
   "source": [
    "Zusätzlich betrachten wir die deskriptiven Statistiken aller Variablen."
   ]
  },
  {
   "cell_type": "code",
   "execution_count": 3,
   "id": "4e919180-31c5-4876-9c8c-1f74d7ea6bc5",
   "metadata": {
    "tags": []
   },
   "outputs": [
    {
     "data": {
      "text/plain": [
       "  PassengerId       Survived          Pclass          Name          \n",
       " Min.   :  1.0   Min.   :0.0000   Min.   :1.000   Length:891        \n",
       " 1st Qu.:223.5   1st Qu.:0.0000   1st Qu.:2.000   Class :character  \n",
       " Median :446.0   Median :0.0000   Median :3.000   Mode  :character  \n",
       " Mean   :446.0   Mean   :0.3838   Mean   :2.309                     \n",
       " 3rd Qu.:668.5   3rd Qu.:1.0000   3rd Qu.:3.000                     \n",
       " Max.   :891.0   Max.   :1.0000   Max.   :3.000                     \n",
       "                                                                    \n",
       "     Sex                 Age            SibSp           Parch       \n",
       " Length:891         Min.   : 0.42   Min.   :0.000   Min.   :0.0000  \n",
       " Class :character   1st Qu.:20.12   1st Qu.:0.000   1st Qu.:0.0000  \n",
       " Mode  :character   Median :28.00   Median :0.000   Median :0.0000  \n",
       "                    Mean   :29.70   Mean   :0.523   Mean   :0.3816  \n",
       "                    3rd Qu.:38.00   3rd Qu.:1.000   3rd Qu.:0.0000  \n",
       "                    Max.   :80.00   Max.   :8.000   Max.   :6.0000  \n",
       "                    NA's   :177                                     \n",
       "    Ticket               Fare           Cabin             Embarked        \n",
       " Length:891         Min.   :  0.00   Length:891         Length:891        \n",
       " Class :character   1st Qu.:  7.91   Class :character   Class :character  \n",
       " Mode  :character   Median : 14.45   Mode  :character   Mode  :character  \n",
       "                    Mean   : 32.20                                        \n",
       "                    3rd Qu.: 31.00                                        \n",
       "                    Max.   :512.33                                        \n",
       "                                                                          "
      ]
     },
     "metadata": {},
     "output_type": "display_data"
    }
   ],
   "source": [
    "# Deskriptive Statistiken aller Variablen\n",
    "summary(titanic_train)"
   ]
  },
  {
   "cell_type": "markdown",
   "id": "ad96b442-82a2-4e31-856c-61ca1e246fb8",
   "metadata": {
    "tags": []
   },
   "source": [
    "### Regression"
   ]
  },
  {
   "cell_type": "markdown",
   "id": "0d518c51-4d5f-4150-8db1-372f34a5fe03",
   "metadata": {},
   "source": [
    "Wir wollen den Zusammenhang zwischen dem gezahlten Fahrpreis und der Überlebenswahrscheinlichkeit untersuchen. "
   ]
  },
  {
   "cell_type": "markdown",
   "id": "0c3837f0-e052-438c-b15e-ca6c3f45093c",
   "metadata": {},
   "source": [
    "Zunächst werden die deskriptiven Statistiken der Variable $Fare$ näher betrachtet. Der Fahrpreis im Titanic-Datensatz wird in Pfund Sterling (£) angegeben. "
   ]
  },
  {
   "cell_type": "code",
   "execution_count": 4,
   "id": "cce70ff5-c5e2-4e0d-9e88-ec4aff00e032",
   "metadata": {
    "tags": []
   },
   "outputs": [
    {
     "data": {
      "text/plain": [
       "   Min. 1st Qu.  Median    Mean 3rd Qu.    Max. \n",
       "   0.00    7.91   14.45   32.20   31.00  512.33 "
      ]
     },
     "metadata": {},
     "output_type": "display_data"
    }
   ],
   "source": [
    "# Zusammenfassung der Fare-Spalte im Titanic-Datensatz\n",
    "summary(titanic_train$Fare)"
   ]
  },
  {
   "cell_type": "markdown",
   "id": "63cd0f70-3a6f-46bf-b2a9-51aa4e94ea28",
   "metadata": {},
   "source": [
    "Wir schätzen nun eine OLS-Regression von $Survived$ auf $Fare$. "
   ]
  },
  {
   "cell_type": "code",
   "execution_count": 5,
   "id": "cb7dd4ce-ddbe-4f8d-bc2d-73c048eba365",
   "metadata": {
    "tags": []
   },
   "outputs": [
    {
     "data": {
      "text/plain": [
       "\n",
       "Call:\n",
       "lm(formula = Survived ~ Fare, data = titanic_train)\n",
       "\n",
       "Residuals:\n",
       "    Min      1Q  Median      3Q     Max \n",
       "-0.9653 -0.3391 -0.3222  0.6044  0.6973 \n",
       "\n",
       "Coefficients:\n",
       "             Estimate Std. Error t value Pr(>|t|)    \n",
       "(Intercept) 0.3026994  0.0187849  16.114  < 2e-16 ***\n",
       "Fare        0.0025195  0.0003174   7.939 6.12e-15 ***\n",
       "---\n",
       "Signif. codes:  0 ‘***’ 0.001 ‘**’ 0.01 ‘*’ 0.05 ‘.’ 0.1 ‘ ’ 1\n",
       "\n",
       "Residual standard error: 0.4705 on 889 degrees of freedom\n",
       "Multiple R-squared:  0.06621,\tAdjusted R-squared:  0.06516 \n",
       "F-statistic: 63.03 on 1 and 889 DF,  p-value: 6.12e-15\n"
      ]
     },
     "metadata": {},
     "output_type": "display_data"
    }
   ],
   "source": [
    "# Lineare Regression: Überleben in Bezug auf den Fahrpreis (in Pfund Sterling)\n",
    "ols <- lm(Survived ~ Fare, data = titanic_train)\n",
    "summary(ols)"
   ]
  },
  {
   "cell_type": "markdown",
   "id": "01fad9f7-3266-4337-814f-094f61663632",
   "metadata": {},
   "source": [
    "**Interpretation:** Für jeden zusätzlich gezahlten £ Fahrpreis stieg die Überlebenswahrscheinlichkeit statistisch signifikant um 0,25% ($=0,0025 \\cdot 100\\%$). Dies deutet darauf hin, dass reichere Personen eine höhere Überlebenswahrscheinlichkeit hatten, was als Diskriminierung interpretiert werden könnte. "
   ]
  },
  {
   "cell_type": "markdown",
   "id": "f0b11f66-462e-4478-919b-8818ab62ac16",
   "metadata": {},
   "source": [
    "### Skalierung der unabhängigen Variable"
   ]
  },
  {
   "cell_type": "markdown",
   "id": "4ab10ef8-51d5-483a-bfa0-a947ebf80fd3",
   "metadata": {},
   "source": [
    "Wir wollen nun die Überlebenswahrscheinlichkeit in CHF und nicht in £ interpretieren. Es ist schwierig, den genauen Wechselkurs zwischen £ und CHF zum Zeitpunkt des Untergangs der Titanic im April 1912 zu bestimmen, da es damals noch keinen einheitlichen Wechselkurs gab. Grob geschätzt betrug der Wechselkurs 1 £ = 25 CHF. Wir müssen also den Fahrpreis mit 25 multiplizieren, um ihn in CHF umzurechnen. \n",
    "\n",
    "Wie wirkt sich das auf die geschätzten Koeffizienten aus?"
   ]
  },
  {
   "cell_type": "markdown",
   "id": "15733302-c065-45cf-bf43-c5e4016df57f",
   "metadata": {},
   "source": [
    "Zuerst rechnen wir $Fare$ in CHF um und generieren die neue Variable $Fare\\_CHF$."
   ]
  },
  {
   "cell_type": "code",
   "execution_count": 6,
   "id": "02a08a88-61e1-4f24-b76d-04e2c22d82ce",
   "metadata": {
    "tags": []
   },
   "outputs": [
    {
     "name": "stdout",
     "output_type": "stream",
     "text": [
      "[1] \"Variable generiert\"\n"
     ]
    }
   ],
   "source": [
    "# Umrechnung von Fare in Schweizer Franken (CHF)\n",
    "titanic_train$Fare_CHF = titanic_train$Fare * 25\n",
    "print('Variable generiert')"
   ]
  },
  {
   "cell_type": "markdown",
   "id": "ee230d24-66e1-4e10-b8d2-c381bc03623c",
   "metadata": {},
   "source": [
    "Dann schauen wir uns die deskriptiven Statistiken von $Fare\\_CHF$ an, um zu überprüfen, ob alles richtig funktioniert hat."
   ]
  },
  {
   "cell_type": "code",
   "execution_count": 7,
   "id": "1fbeebce-2d64-42ad-bc64-501817932710",
   "metadata": {},
   "outputs": [
    {
     "data": {
      "text/plain": [
       "   Min. 1st Qu.  Median    Mean 3rd Qu.    Max. \n",
       "    0.0   197.8   361.4   805.1   775.0 12808.2 "
      ]
     },
     "metadata": {},
     "output_type": "display_data"
    }
   ],
   "source": [
    "# Zusammenfassung der Fare_CHF-Spalte\n",
    "summary(titanic_train$Fare_CHF)"
   ]
  },
  {
   "cell_type": "markdown",
   "id": "cb6dde01-be29-467f-9e47-6fe987a21c3e",
   "metadata": {},
   "source": [
    "Nun wird $Survived$ auf $Fare\\_CHF$ regressiert."
   ]
  },
  {
   "cell_type": "code",
   "execution_count": 8,
   "id": "b22dfef6-02f2-411c-b762-e9a66fce1891",
   "metadata": {},
   "outputs": [
    {
     "data": {
      "text/plain": [
       "\n",
       "Call:\n",
       "lm(formula = Survived ~ Fare_CHF, data = titanic_train)\n",
       "\n",
       "Residuals:\n",
       "    Min      1Q  Median      3Q     Max \n",
       "-0.9653 -0.3391 -0.3222  0.6044  0.6973 \n",
       "\n",
       "Coefficients:\n",
       "              Estimate Std. Error t value             Pr(>|t|)    \n",
       "(Intercept) 0.30269935 0.01878491  16.114 < 0.0000000000000002 ***\n",
       "Fare_CHF    0.00010078 0.00001269   7.939  0.00000000000000612 ***\n",
       "---\n",
       "Signif. codes:  0 ‘***’ 0.001 ‘**’ 0.01 ‘*’ 0.05 ‘.’ 0.1 ‘ ’ 1\n",
       "\n",
       "Residual standard error: 0.4705 on 889 degrees of freedom\n",
       "Multiple R-squared:  0.06621,\tAdjusted R-squared:  0.06516 \n",
       "F-statistic: 63.03 on 1 and 889 DF,  p-value: 0.00000000000000612\n"
      ]
     },
     "metadata": {},
     "output_type": "display_data"
    }
   ],
   "source": [
    "# Lineare Regression: Überleben in Bezug auf den Fahrpreis in CHF\n",
    "options(scipen=999) # Changes the way results are reported (suppresses scientific numbers)\n",
    "ols_chf <- lm(Survived ~ Fare_CHF, data = titanic_train)\n",
    "summary(ols_chf)"
   ]
  },
  {
   "cell_type": "markdown",
   "id": "cfb80e9f-a44e-4947-bd4d-01b01853a4af",
   "metadata": {
    "tags": []
   },
   "source": [
    "- Der Intercept bleibt unverändert bei 0,30.\n",
    "- Der Koeffizient von $Fare\\_CHF$ ist um den Faktor 25 kleiner als der Koeffizient von $Fare$"
   ]
  },
  {
   "cell_type": "markdown",
   "id": "3b0805aa-764b-436a-90e5-6a41a5da8839",
   "metadata": {},
   "source": [
    "**Interpretation:** Für jeden zusätzlich gezahlten CHF Fahrpreis stieg die Überlebenswahrscheinlichkeit statistisch signifikant um 0,01% ($=0,0001 \\cdot 100\\%$). "
   ]
  },
  {
   "cell_type": "markdown",
   "id": "1bbb9628-5cb7-48da-80ad-f0b3b9d85ef5",
   "metadata": {},
   "source": [
    "### Skalierung der abhängigen Variable"
   ]
  },
  {
   "cell_type": "markdown",
   "id": "469eecb2-f5c7-4a2f-a76a-d4cb959a10d9",
   "metadata": {},
   "source": [
    "Es ist umständlich, die Koeffizienten im Kopf in \\% umzurechnen. Deshalb wollen wir die Skalierung der abhängigen Variablen $Survived$ ändern. Derzeit ist die Variable als Dummy kodiert mit $Survived=1$, wenn die Person überlebt hat und $Survived=0$, wenn die Person verstorben ist. Wir möchten nun die Variable $Survived$ als Variable $(0, 100)$ kodieren, um die Koeffizienten direkt in \\% interpretieren zu können."
   ]
  },
  {
   "cell_type": "markdown",
   "id": "9da96858-1748-42f3-925d-f493af073995",
   "metadata": {},
   "source": [
    "Zunächst betrachten wir die deskriptiven Statistiken der Variablen $Survived$."
   ]
  },
  {
   "cell_type": "code",
   "execution_count": 9,
   "id": "2f980cb6-420d-45a5-8e67-9b7ac205f81a",
   "metadata": {
    "tags": []
   },
   "outputs": [
    {
     "data": {
      "text/plain": [
       "   Min. 1st Qu.  Median    Mean 3rd Qu.    Max. \n",
       " 0.0000  0.0000  0.0000  0.3838  1.0000  1.0000 "
      ]
     },
     "metadata": {},
     "output_type": "display_data"
    }
   ],
   "source": [
    "# Zusammenfassung der Überlebensrate (Survived)\n",
    "summary(titanic_train$Survived)"
   ]
  },
  {
   "cell_type": "markdown",
   "id": "e26dfdfe-eeaf-4afb-a6bc-efb409564625",
   "metadata": {},
   "source": [
    "Dann generieren wir eine neue Variable $Survived\\_Percent$, die $(0, 100)$ kodiert ist."
   ]
  },
  {
   "cell_type": "code",
   "execution_count": 10,
   "id": "7b8fc383-c8c0-4101-8148-4cdef8259d90",
   "metadata": {
    "tags": []
   },
   "outputs": [
    {
     "name": "stdout",
     "output_type": "stream",
     "text": [
      "[1] \"Variable generiert\"\n"
     ]
    }
   ],
   "source": [
    "# Umrechnung der Überlebensrate in Prozent\n",
    "titanic_train$Survived_Percent = titanic_train$Survived * 100\n",
    "print('Variable generiert')"
   ]
  },
  {
   "cell_type": "markdown",
   "id": "406cf543-bb57-43fd-96db-cebf465508b4",
   "metadata": {},
   "source": [
    "Nun regressieren wir $Survived\\_Percent$ auf $Fare\\_CHF$."
   ]
  },
  {
   "cell_type": "code",
   "execution_count": 11,
   "id": "56b5c932-0156-4e94-b2b7-c85a576a9c54",
   "metadata": {
    "tags": []
   },
   "outputs": [
    {
     "data": {
      "text/plain": [
       "\n",
       "Call:\n",
       "lm(formula = Survived_Percent ~ Fare_CHF, data = titanic_train)\n",
       "\n",
       "Residuals:\n",
       "   Min     1Q Median     3Q    Max \n",
       "-96.53 -33.91 -32.22  60.44  69.73 \n",
       "\n",
       "Coefficients:\n",
       "             Estimate Std. Error t value             Pr(>|t|)    \n",
       "(Intercept) 30.269935   1.878491  16.114 < 0.0000000000000002 ***\n",
       "Fare_CHF     0.010078   0.001269   7.939  0.00000000000000612 ***\n",
       "---\n",
       "Signif. codes:  0 ‘***’ 0.001 ‘**’ 0.01 ‘*’ 0.05 ‘.’ 0.1 ‘ ’ 1\n",
       "\n",
       "Residual standard error: 47.05 on 889 degrees of freedom\n",
       "Multiple R-squared:  0.06621,\tAdjusted R-squared:  0.06516 \n",
       "F-statistic: 63.03 on 1 and 889 DF,  p-value: 0.00000000000000612\n"
      ]
     },
     "metadata": {},
     "output_type": "display_data"
    }
   ],
   "source": [
    "# Lineare Regression: Überlebensrate in Prozent in Bezug auf den Fahrpreis in Tausend CHF\n",
    "ols_perc <- lm(Survived_Percent ~ Fare_CHF, data = titanic_train)\n",
    "summary(ols_perc)"
   ]
  },
  {
   "cell_type": "markdown",
   "id": "6b912f7b-478c-4d55-a00c-28170a815c86",
   "metadata": {},
   "source": [
    "Wie haben sich die Koeffizienten verändert?\n",
    "\n",
    "Alle Koeffizienten (auch der Intercept) sind jetzt um den Faktor 100 grösser."
   ]
  },
  {
   "cell_type": "markdown",
   "id": "feca5bdf-65cc-4222-8dd2-51a189d89a84",
   "metadata": {},
   "source": [
    "**Interpretation:** Für jeden zusätzlich gezahlten CHF Fahrpreis stieg die Überlebenswahrscheinlichkeit statistisch signifikant um 0,01%. Der Koeffizient $Fare\\_CHF$ muss also nicht mehr mit 100 multipliziert werden, um die Ergebnisse in \\% interpretieren zu können."
   ]
  },
  {
   "cell_type": "code",
   "execution_count": null,
   "id": "9cf795bb-206c-4a54-9cc5-7a15c8775760",
   "metadata": {},
   "outputs": [],
   "source": []
  }
 ],
 "metadata": {
  "kernelspec": {
   "display_name": "R",
   "language": "R",
   "name": "ir"
  },
  "language_info": {
   "codemirror_mode": "r",
   "file_extension": ".r",
   "mimetype": "text/x-r-source",
   "name": "R",
   "pygments_lexer": "r",
   "version": "3.6.1"
  }
 },
 "nbformat": 4,
 "nbformat_minor": 5
}
